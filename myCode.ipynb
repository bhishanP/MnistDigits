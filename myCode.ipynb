{
 "cells": [
  {
   "cell_type": "code",
   "execution_count": 2,
   "metadata": {},
   "outputs": [
    {
     "name": "stdout",
     "output_type": "stream",
     "text": [
      "\u001b[1mDownloading and preparing dataset Unknown size (download: Unknown size, generated: Unknown size, total: Unknown size) to C:\\Users\\bhish\\tensorflow_datasets\\mnist\\3.0.1...\u001b[0m\n"
     ]
    },
    {
     "name": "stderr",
     "output_type": "stream",
     "text": [
      "c:\\Users\\bhish\\OneDrive\\Desktop\\V Semester\\Deep Learning\\Projects\\Mnist\\myenv\\Lib\\site-packages\\tqdm\\auto.py:21: TqdmWarning: IProgress not found. Please update jupyter and ipywidgets. See https://ipywidgets.readthedocs.io/en/stable/user_install.html\n",
      "  from .autonotebook import tqdm as notebook_tqdm\n",
      "Dl Completed...: 0 url [00:00, ? url/s]\n",
      "Dl Completed...:   0%|          | 0/1 [00:00<?, ? url/s]\n",
      "Dl Completed...:   0%|          | 0/2 [00:00<?, ? url/s]\n",
      "Dl Completed...:   0%|          | 0/3 [00:00<?, ? url/s]\n",
      "Dl Completed...:   0%|          | 0/4 [00:00<?, ? url/s]\n",
      "Dl Completed...:   0%|          | 0/4 [00:00<?, ? url/s]\n",
      "Dl Completed...:   0%|          | 0/4 [00:00<?, ? url/s]\n",
      "Dl Completed...:   0%|          | 0/4 [00:00<?, ? url/s]\n",
      "Dl Completed...:   0%|          | 0/4 [00:00<?, ? url/s]\n",
      "Dl Completed...:  25%|██▌       | 1/4 [00:00<00:01,  1.89 url/s]\n",
      "Dl Completed...:  50%|█████     | 2/4 [00:00<00:00,  3.71 url/s]\n",
      "Dl Completed...:  50%|█████     | 2/4 [00:00<00:00,  3.45 url/s]\n",
      "Dl Completed...:  50%|█████     | 2/4 [00:00<00:00,  3.36 url/s]\n",
      "Dl Completed...:  50%|█████     | 2/4 [00:00<00:00,  3.24 url/s]\n",
      "Dl Completed...:  50%|█████     | 2/4 [00:00<00:00,  3.18 url/s]\n",
      "Dl Completed...:  50%|█████     | 2/4 [00:00<00:00,  3.01 url/s]\n",
      "Dl Completed...:  50%|█████     | 2/4 [00:00<00:00,  2.82 url/s]\n",
      "Dl Completed...:  75%|███████▌  | 3/4 [00:00<00:00,  3.98 url/s]\n",
      "Dl Completed...:  75%|███████▌  | 3/4 [00:00<00:00,  3.62 url/s]\n",
      "Dl Completed...:  75%|███████▌  | 3/4 [00:00<00:00,  3.55 url/s]\n",
      "Dl Completed...:  75%|███████▌  | 3/4 [00:00<00:00,  3.34 url/s]\n",
      "Dl Completed...:  75%|███████▌  | 3/4 [00:01<00:00,  2.73 url/s]\n",
      "Dl Completed...:  75%|███████▌  | 3/4 [00:01<00:00,  2.46 url/s]\n",
      "Dl Completed...:  75%|███████▌  | 3/4 [00:01<00:00,  2.29 url/s]\n",
      "Dl Completed...:  75%|███████▌  | 3/4 [00:01<00:00,  2.14 url/s]\n",
      "Dl Completed...:  75%|███████▌  | 3/4 [00:01<00:00,  2.00 url/s]\n",
      "Dl Completed...:  75%|███████▌  | 3/4 [00:01<00:00,  1.88 url/s]\n",
      "Dl Completed...:  75%|███████▌  | 3/4 [00:01<00:00,  1.78 url/s]\n",
      "Dl Completed...: 100%|██████████| 4/4 [00:01<00:00,  2.30 url/s]\n",
      "Dl Completed...: 100%|██████████| 4/4 [00:01<00:00,  2.30 url/s]\n",
      "\u001b[A\n",
      "Dl Completed...: 100%|██████████| 4/4 [00:02<00:00,  2.30 url/s]\n",
      "Extraction completed...: 100%|██████████| 4/4 [00:02<00:00,  1.92 file/s]\n",
      "Dl Size...: 100%|██████████| 10/10 [00:02<00:00,  4.79 MiB/s]\n",
      "Dl Completed...: 100%|██████████| 4/4 [00:02<00:00,  1.91 url/s]\n",
      "                                                                        \r"
     ]
    },
    {
     "name": "stdout",
     "output_type": "stream",
     "text": [
      "\u001b[1mDataset mnist downloaded and prepared to C:\\Users\\bhish\\tensorflow_datasets\\mnist\\3.0.1. Subsequent calls will reuse this data.\u001b[0m\n"
     ]
    },
    {
     "data": {
      "text/plain": [
       "<_PrefetchDataset element_spec=(TensorSpec(shape=(28, 28, 1), dtype=tf.uint8, name=None), TensorSpec(shape=(), dtype=tf.int64, name=None))>"
      ]
     },
     "execution_count": 2,
     "metadata": {},
     "output_type": "execute_result"
    }
   ],
   "source": [
    "import tensorflow as tf\n",
    "import tensorflow_datasets as tfds\n",
    "\n",
    "(ds_train, ds_test), ds_info = tfds.load(\n",
    "    \"mnist\",\n",
    "    split=[\"train\", \"test\"],\n",
    "    shuffle_files=True,\n",
    "    as_supervised=True,\n",
    "    with_info=True,\n",
    ")\n",
    "\n",
    "ds_train"
   ]
  },
  {
   "cell_type": "code",
   "execution_count": 4,
   "metadata": {},
   "outputs": [
    {
     "data": {
      "text/plain": [
       "tfds.core.DatasetInfo(\n",
       "    name='mnist',\n",
       "    full_name='mnist/3.0.1',\n",
       "    description=\"\"\"\n",
       "    The MNIST database of handwritten digits.\n",
       "    \"\"\",\n",
       "    homepage='http://yann.lecun.com/exdb/mnist/',\n",
       "    data_dir='C:\\\\Users\\\\bhish\\\\tensorflow_datasets\\\\mnist\\\\3.0.1',\n",
       "    file_format=tfrecord,\n",
       "    download_size=11.06 MiB,\n",
       "    dataset_size=21.00 MiB,\n",
       "    features=FeaturesDict({\n",
       "        'image': Image(shape=(28, 28, 1), dtype=uint8),\n",
       "        'label': ClassLabel(shape=(), dtype=int64, num_classes=10),\n",
       "    }),\n",
       "    supervised_keys=('image', 'label'),\n",
       "    disable_shuffling=False,\n",
       "    splits={\n",
       "        'test': <SplitInfo num_examples=10000, num_shards=1>,\n",
       "        'train': <SplitInfo num_examples=60000, num_shards=1>,\n",
       "    },\n",
       "    citation=\"\"\"@article{lecun2010mnist,\n",
       "      title={MNIST handwritten digit database},\n",
       "      author={LeCun, Yann and Cortes, Corinna and Burges, CJ},\n",
       "      journal={ATT Labs [Online]. Available: http://yann.lecun.com/exdb/mnist},\n",
       "      volume={2},\n",
       "      year={2010}\n",
       "    }\"\"\",\n",
       ")"
      ]
     },
     "execution_count": 4,
     "metadata": {},
     "output_type": "execute_result"
    }
   ],
   "source": [
    "ds_info"
   ]
  },
  {
   "cell_type": "code",
   "execution_count": 8,
   "metadata": {},
   "outputs": [],
   "source": [
    "def normalize_img(image, label):\n",
    "    \"\"\"Normalizes images: `uint8` -> `float32`.\"\"\"\n",
    "    return tf.cast(image, tf.float32) / 255., label\n",
    "\n",
    "ds_train = ds_train.map(normalize_img)\n",
    "\n",
    "\n",
    "def invert(image, label):\n",
    "    return (tf.cast(image, tf.float32) * -1.0) + 1.0, label\n",
    "\n",
    "\n",
    "inverted = ds_train.map(invert)\n",
    "ds_train = ds_train.concatenate(inverted)\n",
    "\n",
    "ds_train = ds_train.cache()\n",
    "ds_train = ds_train.shuffle(ds_info.splits[\"train\"].num_examples*2)\n",
    "ds_train = ds_train.batch(128)\n",
    "ds_train = ds_train.prefetch(tf.data.experimental.AUTOTUNE)"
   ]
  },
  {
   "cell_type": "code",
   "execution_count": 9,
   "metadata": {},
   "outputs": [],
   "source": [
    "ds_test = ds_test.map(normalize_img)\n",
    "\n",
    "inverted = ds_test.map(invert)\n",
    "ds_test = ds_test.concatenate(inverted)\n",
    "\n",
    "ds_test = ds_test.batch(128)\n",
    "ds_test = ds_test.cache()\n",
    "ds_test = ds_test.prefetch(tf.data.experimental.AUTOTUNE)"
   ]
  },
  {
   "cell_type": "code",
   "execution_count": 10,
   "metadata": {},
   "outputs": [],
   "source": [
    "max_pool = tf.keras.layers.MaxPool2D((2, 2), (2, 2), padding='same')\n",
    "\n",
    "model = tf.keras.models.Sequential([\n",
    "    tf.keras.layers.Conv2D(\n",
    "        filters=16,\n",
    "        kernel_size=5,\n",
    "        padding=\"same\",\n",
    "        activation=tf.nn.relu),\n",
    "    max_pool,\n",
    "    tf.keras.layers.Conv2D(\n",
    "        filters=32,\n",
    "        kernel_size=5,\n",
    "        padding=\"same\",\n",
    "        activation=tf.nn.relu),\n",
    "    max_pool,\n",
    "    tf.keras.layers.Flatten(),\n",
    "    tf.keras.layers.Dense(128, activation=\"relu\"),\n",
    "    tf.keras.layers.Dropout(0.4),\n",
    "    tf.keras.layers.Dense(10, activation=\"softmax\")\n",
    "])\n",
    "\n",
    "model.compile(\n",
    "    loss=\"sparse_categorical_crossentropy\",\n",
    "    optimizer=\"adam\",\n",
    "    metrics=[\"accuracy\"],\n",
    ")"
   ]
  },
  {
   "cell_type": "code",
   "execution_count": 11,
   "metadata": {},
   "outputs": [
    {
     "name": "stdout",
     "output_type": "stream",
     "text": [
      "Epoch 1/10\n",
      "\u001b[1m938/938\u001b[0m \u001b[32m━━━━━━━━━━━━━━━━━━━━\u001b[0m\u001b[37m\u001b[0m \u001b[1m15s\u001b[0m 13ms/step - accuracy: 0.8072 - loss: 0.5983 - val_accuracy: 0.9833 - val_loss: 0.0532\n",
      "Epoch 2/10\n",
      "\u001b[1m938/938\u001b[0m \u001b[32m━━━━━━━━━━━━━━━━━━━━\u001b[0m\u001b[37m\u001b[0m \u001b[1m12s\u001b[0m 13ms/step - accuracy: 0.9750 - loss: 0.0824 - val_accuracy: 0.9886 - val_loss: 0.0354\n",
      "Epoch 3/10\n",
      "\u001b[1m938/938\u001b[0m \u001b[32m━━━━━━━━━━━━━━━━━━━━\u001b[0m\u001b[37m\u001b[0m \u001b[1m12s\u001b[0m 13ms/step - accuracy: 0.9812 - loss: 0.0606 - val_accuracy: 0.9881 - val_loss: 0.0355\n",
      "Epoch 4/10\n",
      "\u001b[1m938/938\u001b[0m \u001b[32m━━━━━━━━━━━━━━━━━━━━\u001b[0m\u001b[37m\u001b[0m \u001b[1m14s\u001b[0m 15ms/step - accuracy: 0.9856 - loss: 0.0477 - val_accuracy: 0.9906 - val_loss: 0.0284\n",
      "Epoch 5/10\n",
      "\u001b[1m938/938\u001b[0m \u001b[32m━━━━━━━━━━━━━━━━━━━━\u001b[0m\u001b[37m\u001b[0m \u001b[1m15s\u001b[0m 15ms/step - accuracy: 0.9872 - loss: 0.0391 - val_accuracy: 0.9913 - val_loss: 0.0284\n",
      "Epoch 6/10\n",
      "\u001b[1m938/938\u001b[0m \u001b[32m━━━━━━━━━━━━━━━━━━━━\u001b[0m\u001b[37m\u001b[0m \u001b[1m15s\u001b[0m 15ms/step - accuracy: 0.9898 - loss: 0.0325 - val_accuracy: 0.9926 - val_loss: 0.0232\n",
      "Epoch 7/10\n",
      "\u001b[1m938/938\u001b[0m \u001b[32m━━━━━━━━━━━━━━━━━━━━\u001b[0m\u001b[37m\u001b[0m \u001b[1m16s\u001b[0m 17ms/step - accuracy: 0.9910 - loss: 0.0292 - val_accuracy: 0.9916 - val_loss: 0.0255\n",
      "Epoch 8/10\n",
      "\u001b[1m938/938\u001b[0m \u001b[32m━━━━━━━━━━━━━━━━━━━━\u001b[0m\u001b[37m\u001b[0m \u001b[1m15s\u001b[0m 16ms/step - accuracy: 0.9916 - loss: 0.0267 - val_accuracy: 0.9908 - val_loss: 0.0284\n",
      "Epoch 9/10\n",
      "\u001b[1m938/938\u001b[0m \u001b[32m━━━━━━━━━━━━━━━━━━━━\u001b[0m\u001b[37m\u001b[0m \u001b[1m15s\u001b[0m 16ms/step - accuracy: 0.9928 - loss: 0.0236 - val_accuracy: 0.9919 - val_loss: 0.0273\n",
      "Epoch 10/10\n",
      "\u001b[1m938/938\u001b[0m \u001b[32m━━━━━━━━━━━━━━━━━━━━\u001b[0m\u001b[37m\u001b[0m \u001b[1m15s\u001b[0m 15ms/step - accuracy: 0.9937 - loss: 0.0208 - val_accuracy: 0.9920 - val_loss: 0.0268\n"
     ]
    },
    {
     "data": {
      "text/plain": [
       "<keras.src.callbacks.history.History at 0x211362fe300>"
      ]
     },
     "execution_count": 11,
     "metadata": {},
     "output_type": "execute_result"
    }
   ],
   "source": [
    "model.fit(\n",
    "    ds_train,\n",
    "    epochs=10,\n",
    "    validation_data=ds_test,\n",
    ")"
   ]
  },
  {
   "cell_type": "code",
   "execution_count": 12,
   "metadata": {},
   "outputs": [],
   "source": [
    "import numpy as np\n",
    "from skimage.io import imread\n",
    "\n",
    "images = []\n",
    "for i in list(range(1,10)) + [\"dog\"]:\n",
    "    images.append(np.array(imread(f\"test/{i}.png\")/255.0, dtype='float32'))\n",
    "images = np.array(images)[:,:,:,np.newaxis]\n",
    "test_data = tf.convert_to_tensor(images)"
   ]
  },
  {
   "cell_type": "code",
   "execution_count": 22,
   "metadata": {},
   "outputs": [],
   "source": [
    "import matplotlib.pyplot as plt"
   ]
  },
  {
   "cell_type": "code",
   "execution_count": 26,
   "metadata": {},
   "outputs": [
    {
     "data": {
      "image/png": "[encoded data removed]",
      "text/plain": [
       "<Figure size 640x480 with 1 Axes>"
      ]
     },
     "metadata": {},
     "output_type": "display_data"
    },
    {
     "data": {
      "image/png": "[encoded data removed]",
      "text/plain": [
       "<Figure size 640x480 with 1 Axes>"
      ]
     },
     "metadata": {},
     "output_type": "display_data"
    },
    {
     "data": {
      "image/png": "[encoded data removed]",
      "text/plain": [
       "<Figure size 640x480 with 1 Axes>"
      ]
     },
     "metadata": {},
     "output_type": "display_data"
    },
    {
     "data": {
      "image/png": "[encoded data removed]",
      "text/plain": [
       "<Figure size 640x480 with 1 Axes>"
      ]
     },
     "metadata": {},
     "output_type": "display_data"
    },
    {
     "data": {
      "image/png": "[encoded data removed]",
      "text/plain": [
       "<Figure size 640x480 with 1 Axes>"
      ]
     },
     "metadata": {},
     "output_type": "display_data"
    },
    {
     "data": {
      "image/png": "[encoded data removed]",
      "text/plain": [
       "<Figure size 640x480 with 1 Axes>"
      ]
     },
     "metadata": {},
     "output_type": "display_data"
    },
    {
     "data": {
      "image/png": "[encoded data removed]",
      "text/plain": [
       "<Figure size 640x480 with 1 Axes>"
      ]
     },
     "metadata": {},
     "output_type": "display_data"
    },
    {
     "data": {
      "image/png": "[encoded data removed]",
      "text/plain": [
       "<Figure size 640x480 with 1 Axes>"
      ]
     },
     "metadata": {},
     "output_type": "display_data"
    },
    {
     "data": {
      "image/png": "[encoded data removed]",
      "text/plain": [
       "<Figure size 640x480 with 1 Axes>"
      ]
     },
     "metadata": {},
     "output_type": "display_data"
    },
    {
     "data": {
      "image/png": "[encoded data removed]",
      "text/plain": [
       "<Figure size 640x480 with 1 Axes>"
      ]
     },
     "metadata": {},
     "output_type": "display_data"
    }
   ],
   "source": [
    "for img in test_data:\n",
    "    plt.imshow(img, cmap='gray')\n",
    "    plt.show()"
   ]
  },
  {
   "cell_type": "code",
   "execution_count": 19,
   "metadata": {},
   "outputs": [
    {
     "name": "stdout",
     "output_type": "stream",
     "text": [
      "\u001b[1m1/1\u001b[0m \u001b[32m━━━━━━━━━━━━━━━━━━━━\u001b[0m\u001b[37m\u001b[0m \u001b[1m0s\u001b[0m 31ms/step\n"
     ]
    }
   ],
   "source": [
    "predictions = model.predict(test_data)"
   ]
  },
  {
   "cell_type": "code",
   "execution_count": 20,
   "metadata": {},
   "outputs": [
    {
     "name": "stdout",
     "output_type": "stream",
     "text": [
      "1 at 55.5%. CNN thinks it's a 1 (55.5%)\n",
      "2 at 100.0%. CNN thinks it's a 2 (100.0%)\n",
      "3 at 100.0%. CNN thinks it's a 3 (100.0%)\n",
      "4 at 100.0%. CNN thinks it's a 4 (100.0%)\n",
      "5 at 100.0%. CNN thinks it's a 5 (100.0%)\n",
      "6 at 100.0%. CNN thinks it's a 6 (100.0%)\n",
      "7 at 99.9%. CNN thinks it's a 7 (99.9%)\n",
      "8 at 100.0%. CNN thinks it's a 8 (100.0%)\n",
      "9 at  2.5%. CNN thinks it's a 8 (93.2%)\n",
      "dog. CNN thinks it's a 8 (49.6%)\n"
     ]
    }
   ],
   "source": [
    "truths = list(range(1, 10)) + [\"dog\"]\n",
    "\n",
    "table = []\n",
    "for truth, probs in zip(truths, predictions):\n",
    "    prediction = probs.argmax()\n",
    "    if truth == 'dog':\n",
    "        print(f\"{truth}. CNN thinks it's a {prediction} ({probs[prediction]*100:.1f}%)\")\n",
    "    else:\n",
    "        print(f\"{truth} at {probs[truth]*100:4.1f}%. CNN thinks it's a {prediction} ({probs[prediction]*100:4.1f}%)\")\n",
    "    table.append((truth, probs))"
   ]
  },
  {
   "cell_type": "code",
   "execution_count": 31,
   "metadata": {},
   "outputs": [
    {
     "name": "stdout",
     "output_type": "stream",
     "text": [
      "<table cellpadding=\"0\" style=\"border-collapse: collapse; border-style: hidden;\">\n",
      "    <thead>\n",
      "    <tr>\n",
      "    <td><b>Image</b></td>\n",
      "    <td><b>0</b></td>\n",
      "    <td><b>1</b></td>\n",
      "    <td><b>2</b></td>\n",
      "    <td><b>3</b></td>\n",
      "    <td><b>4</b></td>\n",
      "    <td><b>5</b></td>\n",
      "    <td><b>6</b></td>\n",
      "    <td><b>7</b></td>\n",
      "    <td><b>8</b></td>\n",
      "    <td><b>9</b></td>\n",
      "    </tr>\n",
      "    </thead>\n",
      "    <tbody>\n",
      "<tr>\n",
      "<td><img src=\"test/1.png\" style=\"margin: 1px 0px\"></td>\n",
      "<td>10%</td>\n",
      "<td style=\"color:green;\">55%</td>\n",
      "<td>1%</td>\n",
      "<td>3%</td>\n",
      "<td>0%</td>\n",
      "<td>2%</td>\n",
      "<td>0%</td>\n",
      "<td>19%</td>\n",
      "<td>1%</td>\n",
      "<td>8%</td>\n",
      "</tr>\n",
      "<tr>\n",
      "<td><img src=\"test/2.png\" style=\"margin: 1px 0px\"></td>\n",
      "<td>0%</td>\n",
      "<td>0%</td>\n",
      "<td style=\"color:green;\">100%</td>\n",
      "<td>0%</td>\n",
      "<td>0%</td>\n",
      "<td>0%</td>\n",
      "<td>0%</td>\n",
      "<td>0%</td>\n",
      "<td>0%</td>\n",
      "<td>0%</td>\n",
      "</tr>\n",
      "<tr>\n",
      "<td><img src=\"test/3.png\" style=\"margin: 1px 0px\"></td>\n",
      "<td>0%</td>\n",
      "<td>0%</td>\n",
      "<td>0%</td>\n",
      "<td style=\"color:green;\">100%</td>\n",
      "<td>0%</td>\n",
      "<td>0%</td>\n",
      "<td>0%</td>\n",
      "<td>0%</td>\n",
      "<td>0%</td>\n",
      "<td>0%</td>\n",
      "</tr>\n",
      "<tr>\n",
      "<td><img src=\"test/4.png\" style=\"margin: 1px 0px\"></td>\n",
      "<td>0%</td>\n",
      "<td>0%</td>\n",
      "<td>0%</td>\n",
      "<td>0%</td>\n",
      "<td style=\"color:green;\">100%</td>\n",
      "<td>0%</td>\n",
      "<td>0%</td>\n",
      "<td>0%</td>\n",
      "<td>0%</td>\n",
      "<td>0%</td>\n",
      "</tr>\n",
      "<tr>\n",
      "<td><img src=\"test/5.png\" style=\"margin: 1px 0px\"></td>\n",
      "<td>0%</td>\n",
      "<td>0%</td>\n",
      "<td>0%</td>\n",
      "<td>0%</td>\n",
      "<td>0%</td>\n",
      "<td style=\"color:green;\">100%</td>\n",
      "<td>0%</td>\n",
      "<td>0%</td>\n",
      "<td>0%</td>\n",
      "<td>0%</td>\n",
      "</tr>\n",
      "<tr>\n",
      "<td><img src=\"test/6.png\" style=\"margin: 1px 0px\"></td>\n",
      "<td>0%</td>\n",
      "<td>0%</td>\n",
      "<td>0%</td>\n",
      "<td>0%</td>\n",
      "<td>0%</td>\n",
      "<td>0%</td>\n",
      "<td style=\"color:green;\">100%</td>\n",
      "<td>0%</td>\n",
      "<td>0%</td>\n",
      "<td>0%</td>\n",
      "</tr>\n",
      "<tr>\n",
      "<td><img src=\"test/7.png\" style=\"margin: 1px 0px\"></td>\n",
      "<td>0%</td>\n",
      "<td>0%</td>\n",
      "<td>0%</td>\n",
      "<td>0%</td>\n",
      "<td>0%</td>\n",
      "<td>0%</td>\n",
      "<td>0%</td>\n",
      "<td style=\"color:green;\">100%</td>\n",
      "<td>0%</td>\n",
      "<td>0%</td>\n",
      "</tr>\n",
      "<tr>\n",
      "<td><img src=\"test/8.png\" style=\"margin: 1px 0px\"></td>\n",
      "<td>0%</td>\n",
      "<td>0%</td>\n",
      "<td>0%</td>\n",
      "<td>0%</td>\n",
      "<td>0%</td>\n",
      "<td>0%</td>\n",
      "<td>0%</td>\n",
      "<td>0%</td>\n",
      "<td style=\"color:green;\">100%</td>\n",
      "<td>0%</td>\n",
      "</tr>\n",
      "<tr>\n",
      "<td><img src=\"test/9.png\" style=\"margin: 1px 0px\"></td>\n",
      "<td>3%</td>\n",
      "<td>0%</td>\n",
      "<td>0%</td>\n",
      "<td>0%</td>\n",
      "<td>1%</td>\n",
      "<td>0%</td>\n",
      "<td>0%</td>\n",
      "<td>0%</td>\n",
      "<td style=\"color:red;\">93%</td>\n",
      "<td>3%</td>\n",
      "</tr>\n",
      "<tr>\n",
      "<td><img src=\"test/dog.png\" style=\"margin: 1px 0px\"></td>\n",
      "<td>7%</td>\n",
      "<td>1%</td>\n",
      "<td>2%</td>\n",
      "<td>5%</td>\n",
      "<td>0%</td>\n",
      "<td>13%</td>\n",
      "<td>21%</td>\n",
      "<td>1%</td>\n",
      "<td style=\"color:red;\">50%</td>\n",
      "<td>0%</td>\n",
      "</tr>\n",
      "</tbody>\n",
      "    </table>\n"
     ]
    }
   ],
   "source": [
    "def print_table(table):\n",
    "    print(\"\"\"<table cellpadding=\"0\" style=\"border-collapse: collapse; border-style: hidden;\">\n",
    "    <thead>\n",
    "    <tr>\n",
    "    <td><b>Image</b></td>\n",
    "    <td><b>0</b></td>\n",
    "    <td><b>1</b></td>\n",
    "    <td><b>2</b></td>\n",
    "    <td><b>3</b></td>\n",
    "    <td><b>4</b></td>\n",
    "    <td><b>5</b></td>\n",
    "    <td><b>6</b></td>\n",
    "    <td><b>7</b></td>\n",
    "    <td><b>8</b></td>\n",
    "    <td><b>9</b></td>\n",
    "    </tr>\n",
    "    </thead>\n",
    "    <tbody>\"\"\")\n",
    "    for truth, l in table:\n",
    "        print(\"<tr>\")\n",
    "        print(f'<td><img src=\"test/{truth}.png\" style=\"margin: 1px 0px\"></td>')\n",
    "        highest_prob = l.argmax()\n",
    "        for j, m in enumerate(l):\n",
    "            if j == highest_prob:\n",
    "                if highest_prob == truth:\n",
    "                    colour = \"green\"\n",
    "                else:\n",
    "                    colour = \"red\"\n",
    "                print(f'<td style=\"color:{colour};\">{int(round(m*100))}%</td>')\n",
    "            else:\n",
    "                print(f\"<td>{int(round(m*100))}%</td>\")\n",
    "        print(\"</tr>\")\n",
    "    print(\"\"\"</tbody>\n",
    "    </table>\"\"\")\n",
    "\n",
    "print_table(table)"
   ]
  },
  {
   "cell_type": "markdown",
   "metadata": {},
   "source": [
    "<table cellpadding=\"0\" style=\"border-collapse: collapse; border-style: hidden;\">\n",
    "    <thead>\n",
    "    <tr>\n",
    "    <td><b>Image</b></td>\n",
    "    <td><b>0</b></td>\n",
    "    <td><b>1</b></td>\n",
    "    <td><b>2</b></td>\n",
    "    <td><b>3</b></td>\n",
    "    <td><b>4</b></td>\n",
    "    <td><b>5</b></td>\n",
    "    <td><b>6</b></td>\n",
    "    <td><b>7</b></td>\n",
    "    <td><b>8</b></td>\n",
    "    <td><b>9</b></td>\n",
    "    </tr>\n",
    "    </thead>\n",
    "    <tbody>\n",
    "<tr>\n",
    "<td><img src=\"test/1.png\" style=\"margin: 1px 0px\"></td>\n",
    "<td>10%</td>\n",
    "<td style=\"color:green;\">55%</td>\n",
    "<td>1%</td>\n",
    "<td>3%</td>\n",
    "<td>0%</td>\n",
    "<td>2%</td>\n",
    "<td>0%</td>\n",
    "<td>19%</td>\n",
    "<td>1%</td>\n",
    "<td>8%</td>\n",
    "</tr>\n",
    "<tr>\n",
    "<td><img src=\"test/2.png\" style=\"margin: 1px 0px\"></td>\n",
    "<td>0%</td>\n",
    "<td>0%</td>\n",
    "<td style=\"color:green;\">100%</td>\n",
    "<td>0%</td>\n",
    "<td>0%</td>\n",
    "<td>0%</td>\n",
    "<td>0%</td>\n",
    "<td>0%</td>\n",
    "<td>0%</td>\n",
    "<td>0%</td>\n",
    "</tr>\n",
    "<tr>\n",
    "<td><img src=\"test/3.png\" style=\"margin: 1px 0px\"></td>\n",
    "<td>0%</td>\n",
    "<td>0%</td>\n",
    "<td>0%</td>\n",
    "<td style=\"color:green;\">100%</td>\n",
    "<td>0%</td>\n",
    "<td>0%</td>\n",
    "<td>0%</td>\n",
    "<td>0%</td>\n",
    "<td>0%</td>\n",
    "<td>0%</td>\n",
    "</tr>\n",
    "<tr>\n",
    "<td><img src=\"test/4.png\" style=\"margin: 1px 0px\"></td>\n",
    "<td>0%</td>\n",
    "<td>0%</td>\n",
    "<td>0%</td>\n",
    "<td>0%</td>\n",
    "<td style=\"color:green;\">100%</td>\n",
    "<td>0%</td>\n",
    "<td>0%</td>\n",
    "<td>0%</td>\n",
    "<td>0%</td>\n",
    "<td>0%</td>\n",
    "</tr>\n",
    "<tr>\n",
    "<td><img src=\"test/5.png\" style=\"margin: 1px 0px\"></td>\n",
    "<td>0%</td>\n",
    "<td>0%</td>\n",
    "<td>0%</td>\n",
    "<td>0%</td>\n",
    "<td>0%</td>\n",
    "<td style=\"color:green;\">100%</td>\n",
    "<td>0%</td>\n",
    "<td>0%</td>\n",
    "<td>0%</td>\n",
    "<td>0%</td>\n",
    "</tr>\n",
    "<tr>\n",
    "<td><img src=\"test/6.png\" style=\"margin: 1px 0px\"></td>\n",
    "<td>0%</td>\n",
    "<td>0%</td>\n",
    "<td>0%</td>\n",
    "<td>0%</td>\n",
    "<td>0%</td>\n",
    "<td>0%</td>\n",
    "<td style=\"color:green;\">100%</td>\n",
    "<td>0%</td>\n",
    "<td>0%</td>\n",
    "<td>0%</td>\n",
    "</tr>\n",
    "<tr>\n",
    "<td><img src=\"test/7.png\" style=\"margin: 1px 0px\"></td>\n",
    "<td>0%</td>\n",
    "<td>0%</td>\n",
    "<td>0%</td>\n",
    "<td>0%</td>\n",
    "<td>0%</td>\n",
    "<td>0%</td>\n",
    "<td>0%</td>\n",
    "<td style=\"color:green;\">100%</td>\n",
    "<td>0%</td>\n",
    "<td>0%</td>\n",
    "</tr>\n",
    "<tr>\n",
    "<td><img src=\"test/8.png\" style=\"margin: 1px 0px\"></td>\n",
    "<td>0%</td>\n",
    "<td>0%</td>\n",
    "<td>0%</td>\n",
    "<td>0%</td>\n",
    "<td>0%</td>\n",
    "<td>0%</td>\n",
    "<td>0%</td>\n",
    "<td>0%</td>\n",
    "<td style=\"color:green;\">100%</td>\n",
    "<td>0%</td>\n",
    "</tr>\n",
    "<tr>\n",
    "<td><img src=\"test/9.png\" style=\"margin: 1px 0px\"></td>\n",
    "<td>3%</td>\n",
    "<td>0%</td>\n",
    "<td>0%</td>\n",
    "<td>0%</td>\n",
    "<td>1%</td>\n",
    "<td>0%</td>\n",
    "<td>0%</td>\n",
    "<td>0%</td>\n",
    "<td style=\"color:red;\">93%</td>\n",
    "<td>3%</td>\n",
    "</tr>\n",
    "<tr>\n",
    "<td><img src=\"test/dog.png\" style=\"margin: 1px 0px\"></td>\n",
    "<td>7%</td>\n",
    "<td>1%</td>\n",
    "<td>2%</td>\n",
    "<td>5%</td>\n",
    "<td>0%</td>\n",
    "<td>13%</td>\n",
    "<td>21%</td>\n",
    "<td>1%</td>\n",
    "<td style=\"color:red;\">50%</td>\n",
    "<td>0%</td>\n",
    "</tr>\n",
    "</tbody>\n",
    "    </table>\n"
   ]
  }
 ],
 "metadata": {
  "kernelspec": {
   "display_name": "myenv",
   "language": "python",
   "name": "python3"
  },
  "language_info": {
   "codemirror_mode": {
    "name": "ipython",
    "version": 3
   },
   "file_extension": ".py",
   "mimetype": "text/x-python",
   "name": "python",
   "nbconvert_exporter": "python",
   "pygments_lexer": "ipython3",
   "version": "3.12.2"
  }
 },
 "nbformat": 4,
 "nbformat_minor": 2
}
